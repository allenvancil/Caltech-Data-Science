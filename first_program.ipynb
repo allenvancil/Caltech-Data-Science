{
 "cells": [
  {
   "cell_type": "code",
   "execution_count": 8,
   "id": "cec3555c",
   "metadata": {},
   "outputs": [
    {
     "name": "stdout",
     "output_type": "stream",
     "text": [
      "I am created!\n",
      "500\n",
      "I am created!\n",
      "item2: 3000\n"
     ]
    }
   ],
   "source": [
    "class item:\n",
    "    def __init__(self) :\n",
    "        print('I am created!')\n",
    "    def calTotPrice(self, x, y):\n",
    "        return x*y\n",
    "\n",
    "item1 = item()\n",
    "item1.name = \"phone\"\n",
    "item1.price = 100\n",
    "item1.quantity = 5\n",
    "print(item1.calTotPrice(item1.price, item1.quantity))\n",
    "\n",
    "item2 = item()\n",
    "item2.name = \"laptop\"\n",
    "item2.price = 1000\n",
    "item2.quantity = 3\n",
    "print('item2:',item2.calTotPrice(item2.price, item2.quantity))\n",
    "\n",
    " "
   ]
  },
  {
   "cell_type": "code",
   "execution_count": 19,
   "id": "5aa2f38e",
   "metadata": {},
   "outputs": [
    {
     "ename": "NameError",
     "evalue": "name 'fact' is not defined",
     "output_type": "error",
     "traceback": [
      "\u001b[1;31m---------------------------------------------------------------------------\u001b[0m",
      "\u001b[1;31mNameError\u001b[0m                                 Traceback (most recent call last)",
      "Cell \u001b[1;32mIn [19], line 3\u001b[0m\n\u001b[0;32m      1\u001b[0m x \u001b[39m=\u001b[39m \u001b[39mlist\u001b[39m(\u001b[39mrange\u001b[39m(\u001b[39m1\u001b[39m,\u001b[39m6\u001b[39m))\n\u001b[0;32m      2\u001b[0m \u001b[39mfor\u001b[39;00m n \u001b[39min\u001b[39;00m x:\n\u001b[1;32m----> 3\u001b[0m     P \u001b[39m=\u001b[39m fact(\u001b[39mlen\u001b[39m(x))\u001b[39m/\u001b[39m(fact(x[n])\u001b[39m*\u001b[39m(\u001b[39mlen\u001b[39m(x)\u001b[39m-\u001b[39mx[n]))\n\u001b[0;32m      4\u001b[0m     \u001b[39mprint\u001b[39m(P)\n",
      "\u001b[1;31mNameError\u001b[0m: name 'fact' is not defined"
     ]
    }
   ],
   "source": [
    "x = list(range(1,6))\n",
    "for n in x:\n",
    "    P = fact(len(x))/(fact(x[n])*(len(x)-x[n]))\n",
    "    print(P)"
   ]
  },
  {
   "cell_type": "code",
   "execution_count": 24,
   "id": "b8521580",
   "metadata": {},
   "outputs": [
    {
     "name": "stdout",
     "output_type": "stream",
     "text": [
      "25\n"
     ]
    }
   ],
   "source": [
    "for m in x:\n",
    "    fact = len(x)*x[len(x)-1]\n",
    "print(fact)"
   ]
  },
  {
   "cell_type": "code",
   "execution_count": null,
   "id": "c73652ff",
   "metadata": {},
   "outputs": [],
   "source": []
  }
 ],
 "metadata": {
  "kernelspec": {
   "display_name": "Python 3",
   "language": "python",
   "name": "python3"
  },
  "language_info": {
   "codemirror_mode": {
    "name": "ipython",
    "version": 3
   },
   "file_extension": ".py",
   "mimetype": "text/x-python",
   "name": "python",
   "nbconvert_exporter": "python",
   "pygments_lexer": "ipython3",
   "version": "3.10.10"
  },
  "vscode": {
   "interpreter": {
    "hash": "92c210be4c922f2ed4c2157985d3485533e10f19d916c56102d5864263fe1e51"
   }
  }
 },
 "nbformat": 4,
 "nbformat_minor": 5
}
