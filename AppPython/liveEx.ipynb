{
 "cells": [
  {
   "cell_type": "code",
   "execution_count": 21,
   "metadata": {},
   "outputs": [
    {
     "name": "stdout",
     "output_type": "stream",
     "text": [
      "[[[10 20 30 40]\n",
      "  [50 60 70 80]]\n",
      "\n",
      " [[12 13 14 15]\n",
      "  [16 17 18 19]]]\n",
      "<class 'numpy.ndarray'>\n"
     ]
    }
   ],
   "source": [
    "import numpy as np\n",
    "arr = np.array([[[10, 20, 30, 40], [50, 60, 70, 80]], [[12, 13, 14, 15], [16, 17, 18, 19]]])\n",
    "print(arr)\n",
    "print(type(arr))"
   ]
  },
  {
   "cell_type": "code",
   "execution_count": 30,
   "metadata": {},
   "outputs": [
    {
     "name": "stdout",
     "output_type": "stream",
     "text": [
      "[[11 22 33]\n",
      " [10 20 30]]\n",
      "4\n",
      "\n",
      " [[15 26 37]\n",
      " [14 24 34]]\n"
     ]
    },
    {
     "data": {
      "text/plain": [
       "array([[15, 26, 37],\n",
       "       [14, 24, 34]])"
      ]
     },
     "execution_count": 30,
     "metadata": {},
     "output_type": "execute_result"
    }
   ],
   "source": [
    "a = np.array([[11, 22, 33, ], [10, 20, 30]])\n",
    "print(a)\n",
    "b = 4\n",
    "print(b)\n",
    "c = a+b\n",
    "print('\\n',c)\n",
    "result = np.add(a, b)\n",
    "result"
   ]
  },
  {
   "cell_type": "code",
   "execution_count": 25,
   "metadata": {},
   "outputs": [
    {
     "name": "stdout",
     "output_type": "stream",
     "text": [
      "(2, 3)\n",
      "[[11 22]\n",
      " [33 10]\n",
      " [20 30]]\n",
      "(3, 2)\n",
      "[[11 22 33]\n",
      " [10 20 30]\n",
      " [11 22 33]\n",
      " [10 20 30]]\n"
     ]
    }
   ],
   "source": [
    "print(a.shape)\n",
    "A = a.reshape(3,2)\n",
    "print(A)\n",
    "print(A.shape)\n",
    "B = np.concatenate((a, a))\n",
    "print(B)"
   ]
  },
  {
   "cell_type": "code",
   "execution_count": 31,
   "metadata": {},
   "outputs": [
    {
     "name": "stdout",
     "output_type": "stream",
     "text": [
      "Hello How are you\n",
      "Hi How are you\n",
      "\n",
      "\n",
      " hi how are you\n"
     ]
    }
   ],
   "source": [
    "str = \"Hello How are you\"\n",
    "print(str)\n",
    "a = np.char.replace(str, 'Hello', 'Hi')\n",
    "print(a)\n",
    "b = np.char.lower(a)\n",
    "print(\"\\n\\n\",b)"
   ]
  },
  {
   "cell_type": "code",
   "execution_count": 38,
   "metadata": {},
   "outputs": [
    {
     "name": "stdout",
     "output_type": "stream",
     "text": [
      "[[20 20 30]\n",
      " [20 50 81]]\n",
      "\n",
      " [[ 0  0  0]\n",
      " [20 10  1]]\n"
     ]
    }
   ],
   "source": [
    "a = np.array([[30,40,60],[50,70,91]])\n",
    "b = np.array([[10,20,30], [30,20,10]])\n",
    "result = np.subtract(a,b)\n",
    "print(result)\n",
    "\n",
    "B = np.mod(a,b)\n",
    "print(\"\\n\",B)"
   ]
  },
  {
   "cell_type": "code",
   "execution_count": 48,
   "metadata": {},
   "outputs": [
    {
     "name": "stdout",
     "output_type": "stream",
     "text": [
      "[[[ 11  22  33]\n",
      "  [ 44  55  66]]\n",
      "\n",
      " [[ 77  88  99]\n",
      "  [100 111 122]]]\n",
      "\n",
      " 100\n",
      "\n",
      " 111\n",
      "[[[11 22 33]\n",
      "  [44 55 66]]]\n"
     ]
    }
   ],
   "source": [
    "Y = np.array([[[11,22,33,],[44,55,66]],[[77,88,99],[100,111,122]]])\n",
    "print(Y)\n",
    "print(\"\\n\", Y[1, 1, 0])\n",
    "print(\"\\n\",Y[1,1,-2])\n",
    "print(Y[0:1])"
   ]
  },
  {
   "cell_type": "code",
   "execution_count": 50,
   "metadata": {},
   "outputs": [
    {
     "name": "stdout",
     "output_type": "stream",
     "text": [
      "[7 4]\n"
     ]
    }
   ],
   "source": [
    "X = np.array([8,7,6,5,4,3,2,1])\n",
    "print(X[1:6:3])\n",
    "Y = np.array([1])"
   ]
  },
  {
   "cell_type": "code",
   "execution_count": 54,
   "metadata": {},
   "outputs": [
    {
     "data": {
      "text/plain": [
       "array([[36, 34],\n",
       "       [ 6, 33]])"
      ]
     },
     "execution_count": 54,
     "metadata": {},
     "output_type": "execute_result"
    }
   ],
   "source": [
    "import random\n",
    "np.random.randint(1,50,(2,2))"
   ]
  }
 ],
 "metadata": {
  "kernelspec": {
   "display_name": "Python 3",
   "language": "python",
   "name": "python3"
  },
  "language_info": {
   "codemirror_mode": {
    "name": "ipython",
    "version": 3
   },
   "file_extension": ".py",
   "mimetype": "text/x-python",
   "name": "python",
   "nbconvert_exporter": "python",
   "pygments_lexer": "ipython3",
   "version": "3.10.10"
  },
  "orig_nbformat": 4,
  "vscode": {
   "interpreter": {
    "hash": "92c210be4c922f2ed4c2157985d3485533e10f19d916c56102d5864263fe1e51"
   }
  }
 },
 "nbformat": 4,
 "nbformat_minor": 2
}
