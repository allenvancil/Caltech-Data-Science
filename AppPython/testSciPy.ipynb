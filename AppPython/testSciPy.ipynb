{
 "cells": [
  {
   "cell_type": "code",
   "execution_count": 10,
   "metadata": {},
   "outputs": [
    {
     "data": {
      "text/plain": [
       "array([24.,  6.])"
      ]
     },
     "execution_count": 10,
     "metadata": {},
     "output_type": "execute_result"
    }
   ],
   "source": [
    "import numpy as np\n",
    "from scipy import linalg\n",
    "#solve x + y = 30\n",
    "#     4x + 9y = 150\n",
    "testQuestVar = np.array([[1,1], [4,9]])\n",
    "testQuestVal = np.array([30,150])\n",
    "\n",
    "linalg.solve(testQuestVar, testQuestVal)"
   ]
  }
 ],
 "metadata": {
  "kernelspec": {
   "display_name": "Python 3",
   "language": "python",
   "name": "python3"
  },
  "language_info": {
   "codemirror_mode": {
    "name": "ipython",
    "version": 3
   },
   "file_extension": ".py",
   "mimetype": "text/x-python",
   "name": "python",
   "nbconvert_exporter": "python",
   "pygments_lexer": "ipython3",
   "version": "3.10.9"
  },
  "orig_nbformat": 4,
  "vscode": {
   "interpreter": {
    "hash": "92c210be4c922f2ed4c2157985d3485533e10f19d916c56102d5864263fe1e51"
   }
  }
 },
 "nbformat": 4,
 "nbformat_minor": 2
}
