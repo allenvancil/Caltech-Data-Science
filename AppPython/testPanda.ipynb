{
 "cells": [
  {
   "cell_type": "code",
   "execution_count": 4,
   "metadata": {},
   "outputs": [
    {
     "data": {
      "text/plain": [
       "0    0\n",
       "1    1\n",
       "2    2\n",
       "3    3\n",
       "4    4\n",
       "dtype: int64"
      ]
     },
     "execution_count": 4,
     "metadata": {},
     "output_type": "execute_result"
    }
   ],
   "source": [
    "import pandas as pd\n",
    "l = [x for x in range(5)]\n",
    "s = pd.Series(l)\n",
    "s"
   ]
  },
  {
   "cell_type": "code",
   "execution_count": 7,
   "metadata": {},
   "outputs": [
    {
     "name": "stdout",
     "output_type": "stream",
     "text": [
      "a    0\n",
      "b    1\n",
      "c    2\n",
      "d    3\n",
      "e    4\n",
      "dtype: int64\n"
     ]
    },
    {
     "data": {
      "text/plain": [
       "4"
      ]
     },
     "execution_count": 7,
     "metadata": {},
     "output_type": "execute_result"
    }
   ],
   "source": [
    "s = pd.Series(l,index=['a', 'b', 'c', 'd', 'e'])\n",
    "print(s)\n",
    "s['e']"
   ]
  },
  {
   "cell_type": "code",
   "execution_count": 10,
   "metadata": {},
   "outputs": [
    {
     "name": "stdout",
     "output_type": "stream",
     "text": [
      "a    0\n",
      "b    1\n",
      "c    2\n",
      "d    3\n",
      "d    4\n",
      "dtype: int64\n"
     ]
    },
    {
     "data": {
      "text/plain": [
       "d    3\n",
       "d    4\n",
       "dtype: int64"
      ]
     },
     "execution_count": 10,
     "metadata": {},
     "output_type": "execute_result"
    }
   ],
   "source": [
    "s = pd.Series(l,index=['a', 'b', 'c', 'd', 'd']) #will return both val with 'd'\n",
    "print(s)\n",
    "s['d']"
   ]
  },
  {
   "cell_type": "code",
   "execution_count": 16,
   "metadata": {},
   "outputs": [
    {
     "name": "stdout",
     "output_type": "stream",
     "text": [
      "a    1\n",
      "b    2\n",
      "c    3\n",
      "d    4\n",
      "dtype: int64\n"
     ]
    },
    {
     "data": {
      "text/plain": [
       "a    1\n",
       "b    2\n",
       "dtype: int64"
      ]
     },
     "execution_count": 16,
     "metadata": {},
     "output_type": "execute_result"
    }
   ],
   "source": [
    "#can do same with dictionary\n",
    "data = {'a':1,'b':2,'c':3,'d':4}\n",
    "s = pd.Series(data)\n",
    "print(s)\n",
    "s = pd.Series(data, index=['a','b'])\n",
    "s"
   ]
  },
  {
   "cell_type": "code",
   "execution_count": 18,
   "metadata": {},
   "outputs": [
    {
     "data": {
      "text/plain": [
       "a    1.0\n",
       "b    2.0\n",
       "c    3.0\n",
       "f    NaN\n",
       "dtype: float64"
      ]
     },
     "execution_count": 18,
     "metadata": {},
     "output_type": "execute_result"
    }
   ],
   "source": [
    "s = pd.Series(data, index=['a','b','c','f']) #value of f not present\n",
    "s"
   ]
  },
  {
   "cell_type": "code",
   "execution_count": 20,
   "metadata": {},
   "outputs": [
    {
     "data": {
      "text/plain": [
       "0     1\n",
       "1     2\n",
       "2     3\n",
       "3     4\n",
       "4     5\n",
       "5     6\n",
       "6     7\n",
       "7     8\n",
       "8     9\n",
       "9    10\n",
       "dtype: int64"
      ]
     },
     "execution_count": 20,
     "metadata": {},
     "output_type": "execute_result"
    }
   ],
   "source": [
    "#Create a Series\n",
    "s = pd.Series([x for x in range(1,11)])\n",
    "s"
   ]
  },
  {
   "cell_type": "code",
   "execution_count": 24,
   "metadata": {},
   "outputs": [
    {
     "name": "stdout",
     "output_type": "stream",
     "text": [
      "2\n",
      "3\n",
      "0     NaN\n",
      "1     2.0\n",
      "2     NaN\n",
      "3     4.0\n",
      "4     NaN\n",
      "5     6.0\n",
      "6     NaN\n",
      "7     8.0\n",
      "8     NaN\n",
      "9    10.0\n",
      "dtype: float64\n",
      "0    odd number\n",
      "1             2\n",
      "2    odd number\n",
      "3             4\n",
      "4    odd number\n",
      "5             6\n",
      "6    odd number\n",
      "7             8\n",
      "8    odd number\n",
      "9            10\n",
      "dtype: object\n"
     ]
    }
   ],
   "source": [
    "print(s.iloc[1])\n",
    "print(s.iat[2])\n",
    "print(s.where(s%2==0))\n",
    "print(s.where(s%2==0, 'odd number'))\n",
    "\n"
   ]
  },
  {
   "cell_type": "code",
   "execution_count": 26,
   "metadata": {},
   "outputs": [
    {
     "data": {
      "text/plain": [
       "0     1\n",
       "1     2\n",
       "2     9\n",
       "3     4\n",
       "4    25\n",
       "5     6\n",
       "6    49\n",
       "7     8\n",
       "8    81\n",
       "9    10\n",
       "dtype: int64"
      ]
     },
     "execution_count": 26,
     "metadata": {},
     "output_type": "execute_result"
    }
   ],
   "source": [
    "s.where(s%2==0, s**2) #squares all odd vals"
   ]
  },
  {
   "cell_type": "code",
   "execution_count": 33,
   "metadata": {},
   "outputs": [
    {
     "name": "stdout",
     "output_type": "stream",
     "text": [
      "None\n",
      "0     NaN\n",
      "1     2.0\n",
      "2     NaN\n",
      "3     4.0\n",
      "4     NaN\n",
      "5     6.0\n",
      "6     NaN\n",
      "7     8.0\n",
      "8     NaN\n",
      "9    10.0\n",
      "dtype: float64\n"
     ]
    },
    {
     "data": {
      "text/plain": [
       "1     2.0\n",
       "3     4.0\n",
       "5     6.0\n",
       "7     8.0\n",
       "9    10.0\n",
       "dtype: float64"
      ]
     },
     "execution_count": 33,
     "metadata": {},
     "output_type": "execute_result"
    }
   ],
   "source": [
    "print(s.where(s%2==0, inplace=True))\n",
    "print(s)\n",
    "s.dropna() #removes all NaN values"
   ]
  },
  {
   "cell_type": "code",
   "execution_count": 35,
   "metadata": {},
   "outputs": [
    {
     "data": {
      "text/plain": [
       "0    blockhead\n",
       "1          2.0\n",
       "2    blockhead\n",
       "3          4.0\n",
       "4    blockhead\n",
       "5          6.0\n",
       "6    blockhead\n",
       "7          8.0\n",
       "8    blockhead\n",
       "9         10.0\n",
       "dtype: object"
      ]
     },
     "execution_count": 35,
     "metadata": {},
     "output_type": "execute_result"
    }
   ],
   "source": [
    "\n",
    "s.fillna('blockhead') #fill every null value wth specified txt\n"
   ]
  },
  {
   "cell_type": "code",
   "execution_count": 43,
   "metadata": {},
   "outputs": [
    {
     "data": {
      "text/html": [
       "<div>\n",
       "<style scoped>\n",
       "    .dataframe tbody tr th:only-of-type {\n",
       "        vertical-align: middle;\n",
       "    }\n",
       "\n",
       "    .dataframe tbody tr th {\n",
       "        vertical-align: top;\n",
       "    }\n",
       "\n",
       "    .dataframe thead th {\n",
       "        text-align: right;\n",
       "    }\n",
       "</style>\n",
       "<table border=\"1\" class=\"dataframe\">\n",
       "  <thead>\n",
       "    <tr style=\"text-align: right;\">\n",
       "      <th></th>\n",
       "      <th>name</th>\n",
       "      <th>year</th>\n",
       "      <th>length_min</th>\n",
       "      <th>genre</th>\n",
       "      <th>average_rating</th>\n",
       "      <th>cost_millions</th>\n",
       "      <th>foreign</th>\n",
       "      <th>age_restriction</th>\n",
       "    </tr>\n",
       "  </thead>\n",
       "  <tbody>\n",
       "    <tr>\n",
       "      <th>0</th>\n",
       "      <td>Toy Story</td>\n",
       "      <td>1995</td>\n",
       "      <td>81</td>\n",
       "      <td>Animation</td>\n",
       "      <td>8.3</td>\n",
       "      <td>30.0</td>\n",
       "      <td>0</td>\n",
       "      <td>0</td>\n",
       "    </tr>\n",
       "    <tr>\n",
       "      <th>1</th>\n",
       "      <td>Akira</td>\n",
       "      <td>1998</td>\n",
       "      <td>125</td>\n",
       "      <td>Animation</td>\n",
       "      <td>8.1</td>\n",
       "      <td>10.4</td>\n",
       "      <td>1</td>\n",
       "      <td>14</td>\n",
       "    </tr>\n",
       "  </tbody>\n",
       "</table>\n",
       "</div>"
      ],
      "text/plain": [
       "        name  year  length_min      genre  average_rating  cost_millions  \\\n",
       "0  Toy Story  1995          81  Animation             8.3           30.0   \n",
       "1      Akira  1998         125  Animation             8.1           10.4   \n",
       "\n",
       "   foreign  age_restriction  \n",
       "0        0                0  \n",
       "1        1               14  "
      ]
     },
     "execution_count": 43,
     "metadata": {},
     "output_type": "execute_result"
    }
   ],
   "source": [
    "df = pd.DataFrame()\n",
    "df = pd.read_csv('movies-db.csv')\n",
    "df.tail() #last 5 rows \n",
    "df.head() #first 5 rows\n",
    "df. head(2) #first 2 rws"
   ]
  },
  {
   "cell_type": "code",
   "execution_count": 45,
   "metadata": {},
   "outputs": [
    {
     "data": {
      "text/plain": [
       "name               Toy Story\n",
       "year                    1995\n",
       "length_min                81\n",
       "genre              Animation\n",
       "average_rating           8.3\n",
       "cost_millions           30.0\n",
       "foreign                    0\n",
       "age_restriction            0\n",
       "Name: 0, dtype: object"
      ]
     },
     "execution_count": 45,
     "metadata": {},
     "output_type": "execute_result"
    }
   ],
   "source": [
    "df.iloc[0] #gives info of first row"
   ]
  },
  {
   "cell_type": "code",
   "execution_count": 52,
   "metadata": {},
   "outputs": [
    {
     "name": "stdout",
     "output_type": "stream",
     "text": [
      "        name  year  length_min      genre  average_rating  cost_millions  \\\n",
      "0  Toy Story  1995          81  Animation             8.3           30.0   \n",
      "1      Akira  1998         125  Animation             8.1           10.4   \n",
      "\n",
      "   foreign  age_restriction  \n",
      "0        0                0  \n",
      "1        1               14  \n",
      "                 name  year  length_min    genre  average_rating  \\\n",
      "2  The Breakfast Club  1985          97    Drama             7.9   \n",
      "3          The Artist  2011         100  Romance             8.0   \n",
      "\n",
      "   cost_millions  foreign  age_restriction  \n",
      "2              1        0               14  \n",
      "3             15        1               12  \n",
      "           name  year  length_min   genre  average_rating  cost_millions  \\\n",
      "4  Modern Times  1936          87  Comedy             8.6            1.5   \n",
      "5    Fight Club  1999         139   Drama             8.9           63.0   \n",
      "\n",
      "   foreign  age_restriction  \n",
      "4        0               10  \n",
      "5        0               18  \n",
      "               name  year  length_min  genre  average_rating  cost_millions  \\\n",
      "6       City of God  2002         130  Crime             8.7            3.3   \n",
      "7  The Untouchables  1987         119  Drama             7.9           25.0   \n",
      "\n",
      "   foreign  age_restriction  \n",
      "6        1               18  \n",
      "7        0               14  \n",
      "                   name  year  length_min   genre  average_rating  \\\n",
      "8  Star Wars Episode IV  1977         121  Action             8.7   \n",
      "9       American Beauty  1999         122   Drama             8.4   \n",
      "\n",
      "   cost_millions  foreign  age_restriction  \n",
      "8             11        0               10  \n",
      "9             15        0               14  \n",
      "               name  year  length_min   genre  average_rating  cost_millions  \\\n",
      "10             Room  2015         118   Drama             8.3           13.0   \n",
      "11  Dr. Strangelove  1964          94  Comedy             8.5            1.8   \n",
      "\n",
      "    foreign  age_restriction  \n",
      "10        1               14  \n",
      "11        1               10  \n",
      "                               name  year  length_min   genre  average_rating  \\\n",
      "12                         The Ring  1998          95  Horror             7.3   \n",
      "13  Monty Python and the Holy Grail  1975          91  Comedy             8.3   \n",
      "\n",
      "    cost_millions  foreign  age_restriction  \n",
      "12            1.2        1               18  \n",
      "13            0.4        1               18  \n",
      "                   name  year  length_min   genre  average_rating  \\\n",
      "14  High School Musical  2006          98  Comedy             5.2   \n",
      "15    Shaun of the Dead  2004          99  Horror             8.0   \n",
      "\n",
      "    cost_millions  foreign  age_restriction  \n",
      "14            4.2        0                0  \n",
      "15            6.1        1               18  \n",
      "                        name  year  length_min  genre  average_rating  \\\n",
      "16               Taxi Driver  1976         113  Crime             8.3   \n",
      "17  The Shawshank Redemption  1994         142  Crime             9.3   \n",
      "\n",
      "    cost_millions  foreign  age_restriction  \n",
      "16            1.3        1               14  \n",
      "17           25.0        0               16  \n",
      "            name  year  length_min      genre  average_rating  cost_millions  \\\n",
      "18  Interstellar  2014         169  Adventure             8.6            165   \n",
      "19        Casino  1995         178  Biography             8.2             50   \n",
      "\n",
      "    foreign  age_restriction  \n",
      "18        0               10  \n",
      "19        0               18  \n",
      "                          name  year  length_min      genre  average_rating  \\\n",
      "20              The Goodfellas  1990         145  Biography             8.7   \n",
      "21  Blue is the Warmest Colour  2013         179    Romance             7.8   \n",
      "\n",
      "    cost_millions  foreign  age_restriction  \n",
      "20           25.0        0               14  \n",
      "21            4.5        1               18  \n",
      "                  name  year  length_min     genre  average_rating  \\\n",
      "22          Black Swan  2010         108  Thriller             8.0   \n",
      "23  Back to the Future  1985         116    Sci-fi             8.5   \n",
      "\n",
      "    cost_millions  foreign  age_restriction  \n",
      "22             13        0               16  \n",
      "23             19        0                0  \n",
      "        name  year  length_min     genre  average_rating  cost_millions  \\\n",
      "24  The Wave  2008         107  Thriller             7.6            5.5   \n",
      "25  Whiplash  2014         106     Drama             8.5            3.3   \n",
      "\n",
      "    foreign  age_restriction  \n",
      "24        1               16  \n",
      "25        1               12  \n",
      "                        name  year  length_min    genre  average_rating  \\\n",
      "26  The Grand Hotel Budapest  2014         100    Crime             8.1   \n",
      "27                   Jumanji  1995         104  Fantasy             6.9   \n",
      "\n",
      "    cost_millions  foreign  age_restriction  \n",
      "26           25.5        0               14  \n",
      "27           65.0        0               12  \n",
      "                                         name  year  length_min   genre  \\\n",
      "28  The Eternal Sunshine of the Spotless Mind  2004         108   Drama   \n",
      "29                                    Chicago  2002         113  Comedy   \n",
      "\n",
      "    average_rating  cost_millions  foreign  age_restriction  \n",
      "28             8.3             20        0               14  \n",
      "29             7.2             45        0               12  \n"
     ]
    }
   ],
   "source": [
    " #if file too big can div in smaller parts\n",
    "df = pd.read_csv('movies-db.csv', chunksize=2) \n",
    "for chunk in df:\n",
    "    print(chunk)"
   ]
  },
  {
   "cell_type": "code",
   "execution_count": 55,
   "metadata": {},
   "outputs": [
    {
     "data": {
      "text/html": [
       "<div>\n",
       "<style scoped>\n",
       "    .dataframe tbody tr th:only-of-type {\n",
       "        vertical-align: middle;\n",
       "    }\n",
       "\n",
       "    .dataframe tbody tr th {\n",
       "        vertical-align: top;\n",
       "    }\n",
       "\n",
       "    .dataframe thead th {\n",
       "        text-align: right;\n",
       "    }\n",
       "</style>\n",
       "<table border=\"1\" class=\"dataframe\">\n",
       "  <thead>\n",
       "    <tr style=\"text-align: right;\">\n",
       "      <th></th>\n",
       "      <th>name</th>\n",
       "      <th>year</th>\n",
       "      <th>length_min</th>\n",
       "      <th>genre</th>\n",
       "      <th>average_rating</th>\n",
       "      <th>cost_millions</th>\n",
       "      <th>foreign</th>\n",
       "      <th>age_restriction</th>\n",
       "    </tr>\n",
       "  </thead>\n",
       "  <tbody>\n",
       "    <tr>\n",
       "      <th>1</th>\n",
       "      <td>Akira</td>\n",
       "      <td>1998</td>\n",
       "      <td>125</td>\n",
       "      <td>Animation</td>\n",
       "      <td>8.1</td>\n",
       "      <td>10.4</td>\n",
       "      <td>1</td>\n",
       "      <td>14</td>\n",
       "    </tr>\n",
       "    <tr>\n",
       "      <th>5</th>\n",
       "      <td>Fight Club</td>\n",
       "      <td>1999</td>\n",
       "      <td>139</td>\n",
       "      <td>Drama</td>\n",
       "      <td>8.9</td>\n",
       "      <td>63.0</td>\n",
       "      <td>0</td>\n",
       "      <td>18</td>\n",
       "    </tr>\n",
       "    <tr>\n",
       "      <th>6</th>\n",
       "      <td>City of God</td>\n",
       "      <td>2002</td>\n",
       "      <td>130</td>\n",
       "      <td>Crime</td>\n",
       "      <td>8.7</td>\n",
       "      <td>3.3</td>\n",
       "      <td>1</td>\n",
       "      <td>18</td>\n",
       "    </tr>\n",
       "    <tr>\n",
       "      <th>8</th>\n",
       "      <td>Star Wars Episode IV</td>\n",
       "      <td>1977</td>\n",
       "      <td>121</td>\n",
       "      <td>Action</td>\n",
       "      <td>8.7</td>\n",
       "      <td>11.0</td>\n",
       "      <td>0</td>\n",
       "      <td>10</td>\n",
       "    </tr>\n",
       "    <tr>\n",
       "      <th>9</th>\n",
       "      <td>American Beauty</td>\n",
       "      <td>1999</td>\n",
       "      <td>122</td>\n",
       "      <td>Drama</td>\n",
       "      <td>8.4</td>\n",
       "      <td>15.0</td>\n",
       "      <td>0</td>\n",
       "      <td>14</td>\n",
       "    </tr>\n",
       "    <tr>\n",
       "      <th>17</th>\n",
       "      <td>The Shawshank Redemption</td>\n",
       "      <td>1994</td>\n",
       "      <td>142</td>\n",
       "      <td>Crime</td>\n",
       "      <td>9.3</td>\n",
       "      <td>25.0</td>\n",
       "      <td>0</td>\n",
       "      <td>16</td>\n",
       "    </tr>\n",
       "    <tr>\n",
       "      <th>18</th>\n",
       "      <td>Interstellar</td>\n",
       "      <td>2014</td>\n",
       "      <td>169</td>\n",
       "      <td>Adventure</td>\n",
       "      <td>8.6</td>\n",
       "      <td>165.0</td>\n",
       "      <td>0</td>\n",
       "      <td>10</td>\n",
       "    </tr>\n",
       "    <tr>\n",
       "      <th>19</th>\n",
       "      <td>Casino</td>\n",
       "      <td>1995</td>\n",
       "      <td>178</td>\n",
       "      <td>Biography</td>\n",
       "      <td>8.2</td>\n",
       "      <td>50.0</td>\n",
       "      <td>0</td>\n",
       "      <td>18</td>\n",
       "    </tr>\n",
       "    <tr>\n",
       "      <th>20</th>\n",
       "      <td>The Goodfellas</td>\n",
       "      <td>1990</td>\n",
       "      <td>145</td>\n",
       "      <td>Biography</td>\n",
       "      <td>8.7</td>\n",
       "      <td>25.0</td>\n",
       "      <td>0</td>\n",
       "      <td>14</td>\n",
       "    </tr>\n",
       "    <tr>\n",
       "      <th>21</th>\n",
       "      <td>Blue is the Warmest Colour</td>\n",
       "      <td>2013</td>\n",
       "      <td>179</td>\n",
       "      <td>Romance</td>\n",
       "      <td>7.8</td>\n",
       "      <td>4.5</td>\n",
       "      <td>1</td>\n",
       "      <td>18</td>\n",
       "    </tr>\n",
       "  </tbody>\n",
       "</table>\n",
       "</div>"
      ],
      "text/plain": [
       "                          name  year  length_min      genre  average_rating  \\\n",
       "1                        Akira  1998         125  Animation             8.1   \n",
       "5                   Fight Club  1999         139      Drama             8.9   \n",
       "6                  City of God  2002         130      Crime             8.7   \n",
       "8         Star Wars Episode IV  1977         121     Action             8.7   \n",
       "9              American Beauty  1999         122      Drama             8.4   \n",
       "17    The Shawshank Redemption  1994         142      Crime             9.3   \n",
       "18                Interstellar  2014         169  Adventure             8.6   \n",
       "19                      Casino  1995         178  Biography             8.2   \n",
       "20              The Goodfellas  1990         145  Biography             8.7   \n",
       "21  Blue is the Warmest Colour  2013         179    Romance             7.8   \n",
       "\n",
       "    cost_millions  foreign  age_restriction  \n",
       "1            10.4        1               14  \n",
       "5            63.0        0               18  \n",
       "6             3.3        1               18  \n",
       "8            11.0        0               10  \n",
       "9            15.0        0               14  \n",
       "17           25.0        0               16  \n",
       "18          165.0        0               10  \n",
       "19           50.0        0               18  \n",
       "20           25.0        0               14  \n",
       "21            4.5        1               18  "
      ]
     },
     "execution_count": 55,
     "metadata": {},
     "output_type": "execute_result"
    }
   ],
   "source": [
    "df = pd.read_csv('movies-db.csv')\n",
    "df = df[df['length_min']>119] #only movies wth length > 25\n",
    "df"
   ]
  },
  {
   "cell_type": "code",
   "execution_count": 96,
   "metadata": {},
   "outputs": [],
   "source": [
    "df = pd.read_csv('movies-db.csv', parse_dates=True)\n",
    "dfh = df.head()\n"
   ]
  },
  {
   "cell_type": "code",
   "execution_count": 97,
   "metadata": {},
   "outputs": [
    {
     "data": {
      "text/plain": [
       "MultiIndex([(         'Toy Story', 'Animation'),\n",
       "            (             'Akira', 'Animation'),\n",
       "            ('The Breakfast Club',     'Drama'),\n",
       "            (        'The Artist',   'Romance'),\n",
       "            (      'Modern Times',    'Comedy')],\n",
       "           names=['name', 'genre'])"
      ]
     },
     "execution_count": 97,
     "metadata": {},
     "output_type": "execute_result"
    }
   ],
   "source": [
    "dfh.set_index(['name', 'genre'], inplace=True)\n",
    "dfh.index\n"
   ]
  },
  {
   "cell_type": "code",
   "execution_count": 101,
   "metadata": {},
   "outputs": [
    {
     "data": {
      "text/plain": [
       "MultiIndex([(                                'Toy Story', 1995),\n",
       "            (                                    'Akira', 1998),\n",
       "            (                       'The Breakfast Club', 1985),\n",
       "            (                               'The Artist', 2011),\n",
       "            (                             'Modern Times', 1936),\n",
       "            (                               'Fight Club', 1999),\n",
       "            (                              'City of God', 2002),\n",
       "            (                         'The Untouchables', 1987),\n",
       "            (                     'Star Wars Episode IV', 1977),\n",
       "            (                          'American Beauty', 1999),\n",
       "            (                                     'Room', 2015),\n",
       "            (                          'Dr. Strangelove', 1964),\n",
       "            (                                 'The Ring', 1998),\n",
       "            (          'Monty Python and the Holy Grail', 1975),\n",
       "            (                      'High School Musical', 2006),\n",
       "            (                        'Shaun of the Dead', 2004),\n",
       "            (                              'Taxi Driver', 1976),\n",
       "            (                 'The Shawshank Redemption', 1994),\n",
       "            (                             'Interstellar', 2014),\n",
       "            (                                   'Casino', 1995),\n",
       "            (                           'The Goodfellas', 1990),\n",
       "            (               'Blue is the Warmest Colour', 2013),\n",
       "            (                               'Black Swan', 2010),\n",
       "            (                       'Back to the Future', 1985),\n",
       "            (                                 'The Wave', 2008),\n",
       "            (                                 'Whiplash', 2014),\n",
       "            (                 'The Grand Hotel Budapest', 2014),\n",
       "            (                                  'Jumanji', 1995),\n",
       "            ('The Eternal Sunshine of the Spotless Mind', 2004),\n",
       "            (                                  'Chicago', 2002)],\n",
       "           names=['name', 'year'])"
      ]
     },
     "execution_count": 101,
     "metadata": {},
     "output_type": "execute_result"
    }
   ],
   "source": [
    "df = pd.read_csv('movies-db.csv', parse_dates=True)\n",
    "df.set_index(['name', 'year'], inplace=True)\n",
    "df.index"
   ]
  },
  {
   "cell_type": "code",
   "execution_count": 115,
   "metadata": {},
   "outputs": [
    {
     "data": {
      "text/plain": [
       "'Loreumipsomdolorsiteametconsecture'"
      ]
     },
     "execution_count": 115,
     "metadata": {},
     "output_type": "execute_result"
    }
   ],
   "source": [
    "txt = pd.Series(['Loreum','ipsom','dolor', 'site', 'amet', 'consecture'], dtype='str') \n",
    "txt.str.split('e') #splits elements at 'e'\n",
    "txt.str.cat() #concat all txt elements"
   ]
  },
  {
   "cell_type": "code",
   "execution_count": null,
   "metadata": {},
   "outputs": [],
   "source": []
  }
 ],
 "metadata": {
  "kernelspec": {
   "display_name": "Python 3",
   "language": "python",
   "name": "python3"
  },
  "language_info": {
   "codemirror_mode": {
    "name": "ipython",
    "version": 3
   },
   "file_extension": ".py",
   "mimetype": "text/x-python",
   "name": "python",
   "nbconvert_exporter": "python",
   "pygments_lexer": "ipython3",
   "version": "3.10.9 (tags/v3.10.9:1dd9be6, Dec  6 2022, 20:01:21) [MSC v.1934 64 bit (AMD64)]"
  },
  "orig_nbformat": 4,
  "vscode": {
   "interpreter": {
    "hash": "92c210be4c922f2ed4c2157985d3485533e10f19d916c56102d5864263fe1e51"
   }
  }
 },
 "nbformat": 4,
 "nbformat_minor": 2
}
