{
 "cells": [
  {
   "cell_type": "code",
   "execution_count": 41,
   "metadata": {},
   "outputs": [
    {
     "data": {
      "text/plain": [
       "7.416198487095663"
      ]
     },
     "execution_count": 41,
     "metadata": {},
     "output_type": "execute_result"
    }
   ],
   "source": [
    " #find norm (length) of a vector v\n",
    "import math\n",
    "def norm_vector(v):\n",
    "    dot_product = sum(i*i for i in v)\n",
    "    return math.sqrt(dot_product)\n",
    "norm_vector([-1, -2, 3, 4, 5])"
   ]
  },
  {
   "cell_type": "code",
   "execution_count": 42,
   "metadata": {},
   "outputs": [
    {
     "data": {
      "text/plain": [
       "array([24.,  6.])"
      ]
     },
     "execution_count": 42,
     "metadata": {},
     "output_type": "execute_result"
    }
   ],
   "source": [
    "#solving the matix equation \n",
    "import numpy as np\n",
    "from scipy import linalg\n",
    "#solve x + y = 30\n",
    "#     4x + 9y = 150\n",
    "testQuestVar = np.array([[1,1], [4,9]])\n",
    "testQuestVal = np.array([30,150])\n",
    "\n",
    "linalg.solve(testQuestVar, testQuestVal)"
   ]
  },
  {
   "cell_type": "code",
   "execution_count": 44,
   "metadata": {},
   "outputs": [
    {
     "name": "stdout",
     "output_type": "stream",
     "text": [
      "x =  [[1, 2, 5], [3, 4, 1]]\n",
      "y =  [[5, 1, 2], [9, 3, 4]]\n",
      "xc =  3\n",
      "yc =  3\n"
     ]
    },
    {
     "data": {
      "text/plain": [
       "[[6, 3, 7], [12, 7, 5]]"
      ]
     },
     "execution_count": 44,
     "metadata": {},
     "output_type": "execute_result"
    }
   ],
   "source": [
    "#adding two matrices\n",
    "def matrix_add(x,y):\n",
    "    xr = len(x)\n",
    "    xc = len(x[0])\n",
    "    yr = len(y)\n",
    "    yc = len(y[0])\n",
    "    print(\"x = \",x)\n",
    "    print(\"y = \",y)\n",
    "    print(\"xc = \", xc)\n",
    "    print(\"yc = \", yc)\n",
    "    if xr != yr or xc != yc:\n",
    "        print(\"matix are of different orders\")\n",
    "    else:\n",
    "        z = x\n",
    "        for i in range(xr):\n",
    "            for j in range(xc):\n",
    "                z[i][j] = z[i][j] + y[i][j]    \n",
    "        return z\n",
    "\n",
    "A = [[1, 2, 5], [3, 4, 1]]\n",
    "B = [[5, 1, 2],[9, 3, 4]]\n",
    "matrix_add(A,B)\n"
   ]
  },
  {
   "cell_type": "code",
   "execution_count": 46,
   "metadata": {},
   "outputs": [
    {
     "data": {
      "text/plain": [
       "[[-6, -18, 3], [-6, -24, 0], [-27, -24, -21]]"
      ]
     },
     "execution_count": 46,
     "metadata": {},
     "output_type": "execute_result"
    }
   ],
   "source": [
    "#scalar * Matrix\n",
    "def scalar_mult(c,X):\n",
    "    cX = X\n",
    "    for i in range(len(X)):\n",
    "        for j in range(len(X[0])):\n",
    "            cX[i][j] = c*cX[i][j]\n",
    "    return cX\n",
    "c = -3\n",
    "X = ([[2, 6, -1],[2, 8, 0],[9, 8, 7]])\n",
    "scalar_mult(c,X)"
   ]
  },
  {
   "cell_type": "code",
   "execution_count": 49,
   "metadata": {},
   "outputs": [
    {
     "data": {
      "text/plain": [
       "([0, -1, 1], [-5, 2, -13])"
      ]
     },
     "execution_count": 49,
     "metadata": {},
     "output_type": "execute_result"
    }
   ],
   "source": [
    "#subtracting Matrices\n",
    "def matrix_sub(x,y):\n",
    "    xr = len(x)\n",
    "    xc = len(x[0])\n",
    "    yr = len(y)\n",
    "    yc  =len(y[0])\n",
    "\n",
    "    if xr != yr or xc != yc:\n",
    "        print(\"cant subtract, matrices differ dims\")\n",
    "    else:\n",
    "        z = x\n",
    "        for i in range(xr):\n",
    "            for j in range(yc):\n",
    "                z[i][j] = z[i][j] - y[i][j]\n",
    "        return z\n",
    "X = ([5, 2, 3], [3, 4, -9])\n",
    "Y = ([5, 3, 2],[8, 2, 4])\n",
    "matrix_sub(X, Y)"
   ]
  },
  {
   "cell_type": "code",
   "execution_count": 56,
   "metadata": {},
   "outputs": [
    {
     "data": {
      "text/plain": [
       "[[28, 32, 25], [52, 20, 25]]"
      ]
     },
     "execution_count": 56,
     "metadata": {},
     "output_type": "execute_result"
    }
   ],
   "source": [
    " #Matix multiplication\n",
    "def matrix_mult(x, y):\n",
    "    xr = len(x)\n",
    "    xc = len(x[0])\n",
    "    yr = len(y)\n",
    "    yc = len(y[0])\n",
    "\n",
    "    if xc != yr:\n",
    "        print(\"Matrix dimesions not compatible\")\n",
    "    else:\n",
    "        z = [[0 for i in range(yc)] for j in range(xr)] #zero matix for storing z values\n",
    "        for i in range(xr):\n",
    "            for j in range(yc):\n",
    "                total = 0\n",
    "                for ii in range(xc):\n",
    "                    total += x[i][ii] * y[ii][j] #mult rows and col, then adds total,\n",
    "                z[i][j] = total #cycles ii,adds total, puts into i,jth element of z\n",
    "        return z\n",
    "X = ([1, 2, 5], [3, 4, 1])\n",
    "Y = ([5, 1, 2], [9, 3, 4], [1, 5, 3])\n",
    "matrix_mult(X,Y)"
   ]
  },
  {
   "cell_type": "code",
   "execution_count": 60,
   "metadata": {},
   "outputs": [
    {
     "data": {
      "text/plain": [
       "[[1, 3], [2, 5], [5, 4]]"
      ]
     },
     "execution_count": 60,
     "metadata": {},
     "output_type": "execute_result"
    }
   ],
   "source": [
    "#Transpose of a matrix\n",
    "def mat_transpose(x):\n",
    "    xr = len(x)\n",
    "    xc = len(x[0])\n",
    "    z = [[0 for i in range(xr)] for j in range(xc)]#setup z = 0\n",
    "    for i in range(xc):\n",
    "        for j in range(xr):\n",
    "            z[i][j] = x[j][i] #transpose x to z\n",
    "    return z\n",
    "X = ([[1, 2, 5], [3, 5, 4]])\n",
    "mat_transpose(X)"
   ]
  },
  {
   "cell_type": "code",
   "execution_count": null,
   "metadata": {},
   "outputs": [],
   "source": []
  }
 ],
 "metadata": {
  "kernelspec": {
   "display_name": "Python 3",
   "language": "python",
   "name": "python3"
  },
  "language_info": {
   "codemirror_mode": {
    "name": "ipython",
    "version": 3
   },
   "file_extension": ".py",
   "mimetype": "text/x-python",
   "name": "python",
   "nbconvert_exporter": "python",
   "pygments_lexer": "ipython3",
   "version": "3.10.9"
  },
  "orig_nbformat": 4,
  "vscode": {
   "interpreter": {
    "hash": "92c210be4c922f2ed4c2157985d3485533e10f19d916c56102d5864263fe1e51"
   }
  }
 },
 "nbformat": 4,
 "nbformat_minor": 2
}
