{
 "cells": [
  {
   "cell_type": "code",
   "execution_count": 10,
   "metadata": {},
   "outputs": [
    {
     "data": {
      "text/plain": [
       "{'key1': 1,\n",
       " 'key2': '2',\n",
       " 'key3': [3, 3, 3],\n",
       " 'key4': (4, 4, 4),\n",
       " 'key5': 5,\n",
       " (0, 1): 6}"
      ]
     },
     "execution_count": 10,
     "metadata": {},
     "output_type": "execute_result"
    }
   ],
   "source": [
    "Dict = {\"key1\": 1, \"key2\": \"2\", \"key3\": [3, 3, 3], \"key4\": (4, 4, 4), ('key5'): 5, (0, 1): 6}\n",
    "Dict\n",
    "#print(Dict)\n",
    "#print(\"\\nValue of first key:\", Dict[\"key1\"])\n",
    "#print(\"\\n\", Dict[(0, 1)])"
   ]
  },
  {
   "cell_type": "code",
   "execution_count": 25,
   "metadata": {},
   "outputs": [
    {
     "name": "stdout",
     "output_type": "stream",
     "text": [
      "{'Thriller': '1982', 'Back in Black': '1980', 'The Dark Side of the Moon': '1973', 'The Bodyguard': '1992', 'Bat Out of Hell': '1977', 'Their Greatest Hits (1971-1975)': '1976', 'Saturday Night Fever': '1977', 'Rumours': '1977'}\n",
      "\n",
      " 1982\n",
      "\n",
      " 1992\n",
      "\n",
      " dict_keys(['Thriller', 'Back in Black', 'The Dark Side of the Moon', 'The Bodyguard', 'Bat Out of Hell', 'Their Greatest Hits (1971-1975)', 'Saturday Night Fever', 'Rumours'])\n",
      "\n",
      " dict_values(['1982', '1980', '1973', '1992', '1977', '1976', '1977', '1977'])\n",
      "{'Thriller': '1982', 'Back in Black': '1980', 'The Dark Side of the Moon': '1973', 'The Bodyguard': '1992', 'Bat Out of Hell': '1977', 'Their Greatest Hits (1971-1975)': '1976', 'Saturday Night Fever': '1977', 'Rumours': '1977', 'Graduation': '2007'}\n",
      "\n",
      " {'Back in Black': '1980', 'The Dark Side of the Moon': '1973', 'The Bodyguard': '1992', 'Bat Out of Hell': '1977', 'Their Greatest Hits (1971-1975)': '1976', 'Saturday Night Fever': '1977', 'Rumours': '1977'}\n"
     ]
    }
   ],
   "source": [
    "release_year_dict = {\"Thriller\": \"1982\", \"Back in Black\": \"1980\", \"The Dark Side of the Moon\": \"1973\", \"The Bodyguard\": \"1992\", \"Bat Out of Hell\": \"1977\", \"Their Greatest Hits (1971-1975)\": \"1976\", \"Saturday Night Fever\": \"1977\", \"Rumours\": \"1977\"}\n",
    "print(release_year_dict)\n",
    "print(\"\\n\", release_year_dict['Thriller'])\n",
    "print(\"\\n\", release_year_dict['The Bodyguard'])\n",
    "print(\"\\n\", release_year_dict.keys()) # lists all key of dictionary\n",
    "print(\"\\n\", release_year_dict.values())\n",
    "release_year_dict['Graduation'] = '2007' #append value with key into dictionary\n",
    "print(release_year_dict)\n",
    "del(release_year_dict['Thriller']) ; del(release_year_dict['Graduation'])\n",
    "print(\"\\n\", release_year_dict)"
   ]
  },
  {
   "cell_type": "code",
   "execution_count": 27,
   "metadata": {},
   "outputs": [
    {
     "data": {
      "text/plain": [
       "True"
      ]
     },
     "execution_count": 27,
     "metadata": {},
     "output_type": "execute_result"
    }
   ],
   "source": [
    "'The Bodyguard' in release_year_dict #filter to see if value exist\n"
   ]
  },
  {
   "cell_type": "code",
   "execution_count": 38,
   "metadata": {},
   "outputs": [
    {
     "name": "stdout",
     "output_type": "stream",
     "text": [
      "{'The Bodyguard': '1992', 'Saturday Night Fever': '1977'}\n",
      "\n",
      " dict_keys(['The Bodyguard', 'Saturday Night Fever'])\n",
      "\n",
      " dict_values(['1992', '1977'])\n"
     ]
    }
   ],
   "source": [
    "soundtrack_dic = {\"The Bodyguard\": \"1992\", \"Saturday Night Fever\": \"1977\"}\n",
    "print(soundtrack_dic)\n",
    "print(\"\\n\", soundtrack_dic.keys()) #shows keys only\n",
    "print(\"\\n\", soundtrack_dic.values())"
   ]
  },
  {
   "cell_type": "code",
   "execution_count": 47,
   "metadata": {},
   "outputs": [
    {
     "name": "stdout",
     "output_type": "stream",
     "text": [
      "{'Back in Black': 50, 'The Bodyguard': 50, 'Thriller': 65}\n",
      "\n",
      "The total sales of Thriller:  65\n",
      "\n",
      "The keys are: dict_keys(['Back in Black', 'The Bodyguard', 'Thriller'])\n",
      "\n",
      "the values are: dict_values([50, 50, 65])\n"
     ]
    }
   ],
   "source": [
    "album_sales_dict = {\"Back in Black\": 50, \"The Bodyguard\": 50, \"Thriller\": 65}\n",
    "print(album_sales_dict)\n",
    "print(\"\\nThe total sales of Thriller: \",album_sales_dict[\"Thriller\"])\n",
    "print(\"\\nThe keys are:\", album_sales_dict.keys())\n",
    "print(\"\\nthe values are:\", album_sales_dict.values())"
   ]
  }
 ],
 "metadata": {
  "kernelspec": {
   "display_name": "Python 3",
   "language": "python",
   "name": "python3"
  },
  "language_info": {
   "codemirror_mode": {
    "name": "ipython",
    "version": 3
   },
   "file_extension": ".py",
   "mimetype": "text/x-python",
   "name": "python",
   "nbconvert_exporter": "python",
   "pygments_lexer": "ipython3",
   "version": "3.10.9 (tags/v3.10.9:1dd9be6, Dec  6 2022, 20:01:21) [MSC v.1934 64 bit (AMD64)]"
  },
  "orig_nbformat": 4,
  "vscode": {
   "interpreter": {
    "hash": "92c210be4c922f2ed4c2157985d3485533e10f19d916c56102d5864263fe1e51"
   }
  }
 },
 "nbformat": 4,
 "nbformat_minor": 2
}
