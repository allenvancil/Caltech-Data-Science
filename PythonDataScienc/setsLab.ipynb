{
 "cells": [
  {
   "cell_type": "code",
   "execution_count": 2,
   "metadata": {},
   "outputs": [
    {
     "name": "stdout",
     "output_type": "stream",
     "text": [
      "{'rock', 'R&B', 'pop', 'disco', 'soul', 'hard rock'}\n"
     ]
    }
   ],
   "source": [
    "set1 = {\"pop\", \"rock\", \"soul\", \"hard rock\", \"rock\", \"R&B\", \"rock\", \"disco\"}\n",
    "print(set1) #set contains no repeats"
   ]
  },
  {
   "cell_type": "code",
   "execution_count": 5,
   "metadata": {},
   "outputs": [
    {
     "name": "stdout",
     "output_type": "stream",
     "text": [
      "album list:  ['Michel Jackson', 'Thriller', 1982, '00:42:19', 'Pop, Rock, R&B', 46.0, 65, '30-Nov-82', None, 10.0]\n",
      "album set: {65, 'Michel Jackson', 'Pop, Rock, R&B', 10.0, '00:42:19', 46.0, '30-Nov-82', 'Thriller', 1982, None}\n"
     ]
    }
   ],
   "source": [
    "album_list = [\"Michel Jackson\", \"Thriller\", 1982, \"00:42:19\",\"Pop, Rock, R&B\", 46.0, 65, \"30-Nov-82\", None, 10.0]\n",
    "album_set = set(album_list)  #convert list to set\n",
    "[print(\"album list: \", album_list)]\n",
    "print(\"album set:\", album_set)"
   ]
  },
  {
   "cell_type": "code",
   "execution_count": 7,
   "metadata": {},
   "outputs": [
    {
     "name": "stdout",
     "output_type": "stream",
     "text": [
      "{'rock', 'R&B', 'folk rock', 'pop', 'hard rock', 'disco', 'progressive rock', 'soft rock', 'soul'}\n"
     ]
    }
   ],
   "source": [
    "music_genres = set([\"pop\", \"pop\", \"rock\", \"folk rock\", \"hard rock\", \"soul\", \"progressive rock\", \"soft rock\", \"R&B\", \"disco\"])\n",
    "print(music_genres)"
   ]
  },
  {
   "cell_type": "code",
   "execution_count": 14,
   "metadata": {},
   "outputs": [
    {
     "name": "stdout",
     "output_type": "stream",
     "text": [
      "{'AC/DC', 'Thriller', 'Back in Black'}\n",
      "{'nsync', 'AC/DC', 'Thriller', 'Back in Black'}\n",
      "{'nsync', 'AC/DC', 'Thriller', 'Back in Black'}\n",
      "{'AC/DC', 'Thriller', 'Back in Black'}\n"
     ]
    },
    {
     "data": {
      "text/plain": [
       "True"
      ]
     },
     "execution_count": 14,
     "metadata": {},
     "output_type": "execute_result"
    }
   ],
   "source": [
    "A = set([\"Thriller\", \"Back in Black\", \"AC/DC\"])\n",
    "print(A)\n",
    "A.add('nsync') #add to A\n",
    "print(A)\n",
    "A.add('nsync') #wont add duplicate entry\n",
    "print(A)\n",
    "A.remove('nsync')\n",
    "print(A)\n",
    "\"AC/DC\" in A #verify entry in set"
   ]
  },
  {
   "cell_type": "code",
   "execution_count": 32,
   "metadata": {},
   "outputs": [
    {
     "name": "stdout",
     "output_type": "stream",
     "text": [
      "album set1: {'AC/DC', 'Thriller', 'Back in Black'} \n",
      "\n",
      "album set2: {'The Dark Side of the Moon', 'AC/DC', 'Back in Black'}\n",
      "\n",
      "Intersection of set1 and set2:  {'AC/DC', 'Back in Black'}\n",
      "\n",
      "Difference between set1 and set2 elements: {'Thriller'}\n",
      "\n",
      "Intersection of set1 and set2: {'AC/DC', 'Back in Black'}\n",
      "\n",
      "Union of set1 and set2: {'The Dark Side of the Moon', 'AC/DC', 'Thriller', 'Back in Black'}\n",
      "\n",
      "Is set1 a superset of set2: False\n",
      "Is set2 a subset of set1: False\n",
      "Is set1 a superset of input: True\n"
     ]
    }
   ],
   "source": [
    "album_set1 = set([\"Thriller\", 'AC/DC', 'Back in Black'])\n",
    "album_set2 = set([\"AC/DC\", \"Back in Black\", \"The Dark Side of the Moon\"])\n",
    "print(\"album set1:\", album_set1, \"\\n\\nalbum set2:\",album_set2)\n",
    "intersection = album_set1 & album_set2 #give elements common to both sets\n",
    "print(\"\\nIntersection of set1 and set2: \",intersection)\n",
    "print(\"\\nDifference between set1 and set2 elements:\",album_set1.difference(album_set2))\n",
    "print(\"\\nIntersection of set1 and set2:\", album_set1.intersection(album_set2))\n",
    "print(\"\\nUnion of set1 and set2:\", album_set1.union(album_set2))\n",
    "print(\"\\nIs set1 a superset of set2:\", set(album_set1).issuperset(album_set2))\n",
    "print(\"Is set2 a subset of set1:\", set(album_set2).issubset(album_set1))\n",
    "print(\"Is set1 a superset of input:\", album_set1.issuperset({\"Back in Black\", \"AC/DC\"}))"
   ]
  },
  {
   "cell_type": "code",
   "execution_count": 33,
   "metadata": {},
   "outputs": [
    {
     "name": "stdout",
     "output_type": "stream",
     "text": [
      "{'rap', 'electronic music', 'house'}\n"
     ]
    }
   ],
   "source": [
    "#Quiz\n",
    "#Convert the list <code>['rap','house','electronic music', 'rap']</code> to a set:\n",
    "A = [\"rap\", \"house\", \"electronic music\", \"rap\"]\n",
    "B = set(A)\n",
    "print(B)"
   ]
  },
  {
   "cell_type": "code",
   "execution_count": 38,
   "metadata": {},
   "outputs": [
    {
     "name": "stdout",
     "output_type": "stream",
     "text": [
      "sum of A: 6\n",
      "sum of B: 3\n",
      "Is sum(A) = sum(B): False\n"
     ]
    }
   ],
   "source": [
    "A = [1, 2, 2, 1]\n",
    "B = set([1, 2, 2, 1])\n",
    "print(\"sum of A:\", sum(A))\n",
    "print(\"sum of B:\", sum(B))\n",
    "print(\"Is sum(A) = sum(B):\", sum(A) == sum(B))"
   ]
  },
  {
   "cell_type": "code",
   "execution_count": 43,
   "metadata": {},
   "outputs": [
    {
     "name": "stdout",
     "output_type": "stream",
     "text": [
      "{'The Dark Side of the Moon', 'AC/DC', 'Thriller', 'Back in Black'}\n"
     ]
    },
    {
     "data": {
      "text/plain": [
       "True"
      ]
     },
     "execution_count": 43,
     "metadata": {},
     "output_type": "execute_result"
    }
   ],
   "source": [
    "album_set3 = album_set1.union(album_set2)\n",
    "print(album_set3)\n",
    "album_set1.issubset(album_set3)"
   ]
  }
 ],
 "metadata": {
  "kernelspec": {
   "display_name": "Python 3",
   "language": "python",
   "name": "python3"
  },
  "language_info": {
   "codemirror_mode": {
    "name": "ipython",
    "version": 3
   },
   "file_extension": ".py",
   "mimetype": "text/x-python",
   "name": "python",
   "nbconvert_exporter": "python",
   "pygments_lexer": "ipython3",
   "version": "3.10.9 (tags/v3.10.9:1dd9be6, Dec  6 2022, 20:01:21) [MSC v.1934 64 bit (AMD64)]"
  },
  "orig_nbformat": 4,
  "vscode": {
   "interpreter": {
    "hash": "92c210be4c922f2ed4c2157985d3485533e10f19d916c56102d5864263fe1e51"
   }
  }
 },
 "nbformat": 4,
 "nbformat_minor": 2
}
