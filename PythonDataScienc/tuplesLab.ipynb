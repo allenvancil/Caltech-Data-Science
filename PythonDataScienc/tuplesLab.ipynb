{
 "cells": [
  {
   "cell_type": "code",
   "execution_count": 4,
   "metadata": {},
   "outputs": [
    {
     "name": "stdout",
     "output_type": "stream",
     "text": [
      "('disco', 10, 1.2)\n",
      "disco\n",
      "10\n",
      "1.2\n"
     ]
    }
   ],
   "source": [
    "tuple1 = (\"disco\", 10, 1.2)\n",
    "print(tuple1)\n",
    "type(tuple1)\n",
    "print(tuple1[0])\n",
    "print(tuple1[1])\n",
    "print(tuple1[2])\n"
   ]
  },
  {
   "cell_type": "code",
   "execution_count": 7,
   "metadata": {},
   "outputs": [
    {
     "name": "stdout",
     "output_type": "stream",
     "text": [
      "<class 'str'>\n",
      "<class 'int'>\n",
      "<class 'float'>\n"
     ]
    }
   ],
   "source": [
    "print(type(tuple1[0]))\n",
    "print(type(tuple1[1]))\n",
    "print(type(tuple1[2]))"
   ]
  },
  {
   "cell_type": "code",
   "execution_count": 10,
   "metadata": {},
   "outputs": [
    {
     "name": "stdout",
     "output_type": "stream",
     "text": [
      "1.2\n",
      "disco\n"
     ]
    }
   ],
   "source": [
    "print(tuple1[-1])\n",
    "print(tuple1[-3])"
   ]
  },
  {
   "cell_type": "code",
   "execution_count": 18,
   "metadata": {},
   "outputs": [
    {
     "name": "stdout",
     "output_type": "stream",
     "text": [
      "('disco', 10, 1.2, 'hard rock', 10)\n",
      "('disco', 10, 1.2)\n",
      "('hard rock', 10)\n",
      "5\n"
     ]
    }
   ],
   "source": [
    "tuple2 = tuple1 + (\"hard rock\", 10)\n",
    "print(tuple2)\n",
    "print(tuple2[0:3])\n",
    "print(tuple2[3:5])\n",
    "print(len(tuple2))"
   ]
  },
  {
   "cell_type": "code",
   "execution_count": 21,
   "metadata": {},
   "outputs": [
    {
     "name": "stdout",
     "output_type": "stream",
     "text": [
      "(0, 9, 6, 5, 10, 8, 9, 6, 2)\n",
      "[0, 2, 5, 6, 6, 8, 9, 9, 10]\n"
     ]
    }
   ],
   "source": [
    "Ratings = (0, 9, 6, 5, 10, 8, 9, 6, 2)\n",
    "print(Ratings)\n",
    "SortRatings = sorted(Ratings)\n",
    "print(SortRatings)"
   ]
  },
  {
   "cell_type": "code",
   "execution_count": 23,
   "metadata": {},
   "outputs": [
    {
     "name": "stdout",
     "output_type": "stream",
     "text": [
      "Element 0 of tuple:  1\n",
      "Element 1 of tuple:  2\n",
      "Element 2 of tuple:  ('pop', 'rock')\n",
      "Element 3 of tuple:  (3, 4)\n",
      "Element 4 of tuple:  ('disco', (1, 2))\n"
     ]
    }
   ],
   "source": [
    "NestT = (1, 2, (\"pop\", \"rock\"), (3, 4), (\"disco\", (1, 2)))\n",
    "print(\"Element 0 of tuple: \", NestT[0])\n",
    "print(\"Element 1 of tuple: \", NestT[1])\n",
    "print(\"Element 2 of tuple: \", NestT[2])\n",
    "print(\"Element 3 of tuple: \", NestT[3])\n",
    "print(\"Element 4 of tuple: \", NestT[4])\n"
   ]
  },
  {
   "cell_type": "code",
   "execution_count": 25,
   "metadata": {},
   "outputs": [
    {
     "name": "stdout",
     "output_type": "stream",
     "text": [
      "Element 2, 0 of Tuple:  pop\n",
      "Element 2, 1 of Tuple:  rock\n",
      "Element 3, 0 of Tuple:  3\n",
      "Element 3, 1 of Tuple:  4\n",
      "Element 4, 0 of Tuple:  disco\n",
      "Element 4, 1 of Tuple:  (1, 2)\n"
     ]
    }
   ],
   "source": [
    "print(\"Element 2, 0 of Tuple: \", NestT[2][0])\n",
    "print(\"Element 2, 1 of Tuple: \", NestT[2][1])\n",
    "print(\"Element 3, 0 of Tuple: \", NestT[3][0])\n",
    "print(\"Element 3, 1 of Tuple: \", NestT[3][1])\n",
    "print(\"Element 4, 0 of Tuple: \", NestT[4][0])\n",
    "print(\"Element 4, 1 of Tuple: \", NestT[4][1])\n"
   ]
  },
  {
   "cell_type": "code",
   "execution_count": 32,
   "metadata": {},
   "outputs": [
    {
     "name": "stdout",
     "output_type": "stream",
     "text": [
      "(1, 2, ('pop', 'rock'), (3, 4), ('disco', (1, 2)))\n",
      "r\n",
      "o\n",
      "1\n",
      "2\n"
     ]
    }
   ],
   "source": [
    "print(NestT)\n",
    "print(NestT[2][1][0]) #NestT[2][1]= rock, then rock[0] = r\n",
    "print(NestT[2][1][1]) #NestT[2][1]= rock, then rock[1] = o\n",
    "print(NestT[4][1][0])\n",
    "print(NestT[4][1][1])"
   ]
  },
  {
   "cell_type": "code",
   "execution_count": 55,
   "metadata": {},
   "outputs": [
    {
     "name": "stdout",
     "output_type": "stream",
     "text": [
      "('pop', 'rock', 'soul', 'hear rock', 'soft rock', 'R&B', 'progressive rock', 'disco')\n",
      "8\n"
     ]
    }
   ],
   "source": [
    "genres_tuple = (\"pop\", \"rock\", \"soul\", \"hear rock\", \"soft rock\",\n",
    "                \"R&B\", \"progressive rock\", \"disco\")\n",
    "print(genres_tuple)\n",
    "print(len(genres_tuple))\n"
   ]
  },
  {
   "cell_type": "code",
   "execution_count": 62,
   "metadata": {},
   "outputs": [
    {
     "name": "stdout",
     "output_type": "stream",
     "text": [
      "('hear rock', 'soft rock', 'R&B')\n",
      "('pop', 'rock')\n",
      "di\n"
     ]
    }
   ],
   "source": [
    "print(genres_tuple[3:6])\n",
    "print(genres_tuple[0:2])\n",
    "print(genres_tuple[7][0]) #first letter of index 7,0"
   ]
  },
  {
   "cell_type": "code",
   "execution_count": 64,
   "metadata": {},
   "outputs": [
    {
     "data": {
      "text/plain": [
       "7"
      ]
     },
     "execution_count": 64,
     "metadata": {},
     "output_type": "execute_result"
    }
   ],
   "source": [
    "genres_tuple.index(\"disco\") #gives index no. of disco"
   ]
  },
  {
   "cell_type": "code",
   "execution_count": 67,
   "metadata": {},
   "outputs": [
    {
     "name": "stdout",
     "output_type": "stream",
     "text": [
      "[-5, -3, 1]\n"
     ]
    }
   ],
   "source": [
    "C_tuple = (-5, 1, -3)\n",
    "C_list = sorted(C_tuple)\n",
    "print(C_list)"
   ]
  }
 ],
 "metadata": {
  "kernelspec": {
   "display_name": "Python 3",
   "language": "python",
   "name": "python3"
  },
  "language_info": {
   "codemirror_mode": {
    "name": "ipython",
    "version": 3
   },
   "file_extension": ".py",
   "mimetype": "text/x-python",
   "name": "python",
   "nbconvert_exporter": "python",
   "pygments_lexer": "ipython3",
   "version": "3.10.9"
  },
  "orig_nbformat": 4,
  "vscode": {
   "interpreter": {
    "hash": "92c210be4c922f2ed4c2157985d3485533e10f19d916c56102d5864263fe1e51"
   }
  }
 },
 "nbformat": 4,
 "nbformat_minor": 2
}
