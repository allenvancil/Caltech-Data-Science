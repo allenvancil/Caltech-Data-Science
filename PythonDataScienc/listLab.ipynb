{
 "cells": [
  {
   "cell_type": "code",
   "execution_count": 11,
   "metadata": {},
   "outputs": [
    {
     "name": "stdout",
     "output_type": "stream",
     "text": [
      "['Michel Jackson', 10.1, 1982]\n",
      "\n",
      "the same element using negitive and positive indexing: \n",
      "Postive: Michel Jackson \n",
      "Negitive: Michel Jackson\n",
      "\n",
      "the same element using negitive and positive indexing: \n",
      "Postive: 10.1 \n",
      "Negitive: 10.1\n",
      "\n",
      "the same element using negitive and positive indexing: \n",
      "Postive: 1982 \n",
      "Negitive: 1982\n"
     ]
    }
   ],
   "source": [
    "L = [\"Michel Jackson\", 10.1, 1982]\n",
    "print(L)\n",
    "print('\\nthe same element using negitive and positive indexing: \\nPostive:', L[0], '\\nNegitive:', L[-3])\n",
    "print('\\nthe same element using negitive and positive indexing: \\nPostive:', L[1], '\\nNegitive:', L[-2])\n",
    "print('\\nthe same element using negitive and positive indexing: \\nPostive:', L[2], '\\nNegitive:', L[-1])\n"
   ]
  },
  {
   "cell_type": "code",
   "execution_count": 14,
   "metadata": {},
   "outputs": [
    {
     "name": "stdout",
     "output_type": "stream",
     "text": [
      "['Michel Jackson', 10.1, 1982, 'MJ', 1]\n",
      "['MJ', 1]\n"
     ]
    }
   ],
   "source": [
    "L = [\"Michel Jackson\", 10.1, 1982, \"MJ\", 1]\n",
    "print(L)\n",
    "print(L[3:5])"
   ]
  },
  {
   "cell_type": "code",
   "execution_count": 18,
   "metadata": {},
   "outputs": [
    {
     "name": "stdout",
     "output_type": "stream",
     "text": [
      "['Michel Jackson', 10.2, 'pop', 10]\n",
      "['Michel Jackson', 10.2, 'pop', 10, ['a', 'b']]\n"
     ]
    }
   ],
   "source": [
    "L = [\"Michel Jackson\", 10.2]\n",
    "L.extend(['pop', 10]) #adds on to list[] inside tuple()\n",
    "print(L)\n",
    "L.append(['a', 'b']) #adds onto L as own index\n",
    "print(L)"
   ]
  },
  {
   "cell_type": "code",
   "execution_count": 24,
   "metadata": {},
   "outputs": [
    {
     "name": "stdout",
     "output_type": "stream",
     "text": [
      "Before change:  ['disco', 10, 1.2]\n",
      "After change:  ['hard rock', 10, 1.2]\n"
     ]
    }
   ],
   "source": [
    "A = [\"disco\", 10, 1.2]\n",
    "print('Before change: ', A)\n",
    "A[0] = 'hard rock'  #change zeroth index in A, \"disco\" to \"hard rock\"\n",
    "print('After change: ', A)"
   ]
  },
  {
   "cell_type": "code",
   "execution_count": 25,
   "metadata": {},
   "outputs": [
    {
     "name": "stdout",
     "output_type": "stream",
     "text": [
      "Before change: ['hard rock', 10, 1.2]\n",
      "After change: [10, 1.2]\n"
     ]
    }
   ],
   "source": [
    "print('Before change:', A)\n",
    "del(A[0]) \n",
    "print('After change:', A) #deleted the zeroth index of A"
   ]
  },
  {
   "cell_type": "code",
   "execution_count": 36,
   "metadata": {},
   "outputs": [
    {
     "name": "stdout",
     "output_type": "stream",
     "text": [
      "['hard', 'rock']\n",
      "\n",
      "With comma delimiter: ['A', ' B', ' C', ' D']\n",
      "\n",
      "With only a space: ['A,', 'B,', 'C,', 'D']\n"
     ]
    }
   ],
   "source": [
    "B = 'hard rock'.split()\n",
    "print(B)\n",
    "C = 'A, B, C, D'.split(',')\n",
    "D = 'A, B, C, D'.split(' ')\n",
    "print(\"\\nWith comma delimiter:\", C)\n",
    "print(\"\\nWith only a space:\", D)"
   ]
  },
  {
   "cell_type": "code",
   "execution_count": 48,
   "metadata": {},
   "outputs": [
    {
     "name": "stdout",
     "output_type": "stream",
     "text": [
      "A: ['hard rock', 10, 1.2]\n",
      "\n",
      "B: ['hard rock', 10, 1.2]\n"
     ]
    }
   ],
   "source": [
    "A = [\"hard rock\", 10, 1.2]\n",
    "B = A\n",
    "print(\"A:\", A); print(\"\\nB:\", B)"
   ]
  },
  {
   "cell_type": "code",
   "execution_count": 49,
   "metadata": {},
   "outputs": [
    {
     "name": "stdout",
     "output_type": "stream",
     "text": [
      "B[0]: hard rock\n",
      "B[0]: banana\n"
     ]
    }
   ],
   "source": [
    "print('B[0]:', B[0])\n",
    "A[0] = \"banana\"\n",
    "print('B[0]:', B[0]) #if change A will change B"
   ]
  },
  {
   "cell_type": "code",
   "execution_count": 51,
   "metadata": {},
   "outputs": [
    {
     "name": "stdout",
     "output_type": "stream",
     "text": [
      "['banana', 10, 1.2]\n"
     ]
    }
   ],
   "source": [
    "B = A[:] #can change A now without change B\n",
    "print(B)"
   ]
  },
  {
   "cell_type": "code",
   "execution_count": 53,
   "metadata": {},
   "outputs": [
    {
     "name": "stdout",
     "output_type": "stream",
     "text": [
      "B[0]: banana\n",
      "B[0] banana\n"
     ]
    }
   ],
   "source": [
    "print('B[0]:', B[0])\n",
    "A[0] = \"hard rock\"\n",
    "print('B[0]', B[0]) #B stays the same"
   ]
  },
  {
   "cell_type": "code",
   "execution_count": 58,
   "metadata": {},
   "outputs": [
    {
     "name": "stdout",
     "output_type": "stream",
     "text": [
      "[1, 'hello', [1, 2, 3], True]\n",
      "\n",
      " hello\n",
      "\n",
      " ['hello', [1, 2, 3], True]\n"
     ]
    }
   ],
   "source": [
    "a_list = [1, \"hello\", [1, 2, 3], True]\n",
    "print(a_list)\n",
    "print('\\n',a_list[1])\n",
    "print(\"\\n\", a_list[1:4])"
   ]
  },
  {
   "cell_type": "code",
   "execution_count": 60,
   "metadata": {},
   "outputs": [
    {
     "name": "stdout",
     "output_type": "stream",
     "text": [
      "A + B =  [1, 'a', 2, 1, 'd']\n"
     ]
    }
   ],
   "source": [
    "A = [1, 'a']\n",
    "B = [2, 1, 'd']\n",
    "print(\"A + B = \",A + B)"
   ]
  }
 ],
 "metadata": {
  "kernelspec": {
   "display_name": "Python 3",
   "language": "python",
   "name": "python3"
  },
  "language_info": {
   "codemirror_mode": {
    "name": "ipython",
    "version": 3
   },
   "file_extension": ".py",
   "mimetype": "text/x-python",
   "name": "python",
   "nbconvert_exporter": "python",
   "pygments_lexer": "ipython3",
   "version": "3.10.9 (tags/v3.10.9:1dd9be6, Dec  6 2022, 20:01:21) [MSC v.1934 64 bit (AMD64)]"
  },
  "orig_nbformat": 4,
  "vscode": {
   "interpreter": {
    "hash": "92c210be4c922f2ed4c2157985d3485533e10f19d916c56102d5864263fe1e51"
   }
  }
 },
 "nbformat": 4,
 "nbformat_minor": 2
}
