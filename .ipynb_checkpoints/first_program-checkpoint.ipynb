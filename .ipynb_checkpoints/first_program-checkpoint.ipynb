{
 "cells": [
  {
   "cell_type": "code",
   "execution_count": 115,
   "id": "4c41a666-8936-4540-8c0a-ecede2fbea52",
   "metadata": {},
   "outputs": [],
   "source": [
    "def mygen():\n",
    "    n = 1\n",
    "    print(\"first inter\")\n",
    "    yield 'num 1 : n = '+ str(n)\n",
    "    \n",
    "    n += 2\n",
    "    print(\"sec inter\")\n",
    "    yield 'num 2 : n = '+ str(n)\n",
    "    \n",
    "    n += 3\n",
    "    print(\"third inter\")\n",
    "    yield 'num 3 : n = '+ str(n)"
   ]
  },
  {
   "cell_type": "code",
   "execution_count": 116,
   "id": "c6cd8379-c82c-439f-a63d-b3f79c8bfc18",
   "metadata": {},
   "outputs": [],
   "source": [
    "gen = mygen()"
   ]
  },
  {
   "cell_type": "code",
   "execution_count": 117,
   "id": "ee663c49-0aa2-4fd2-ab80-e2daea341251",
   "metadata": {},
   "outputs": [
    {
     "data": {
      "text/plain": [
       "<generator object mygen at 0x000001FBF12559A0>"
      ]
     },
     "execution_count": 117,
     "metadata": {},
     "output_type": "execute_result"
    }
   ],
   "source": [
    "gen"
   ]
  },
  {
   "cell_type": "code",
   "execution_count": 118,
   "id": "474c2ef7-8119-4c5e-ac7c-357a6b5cebf4",
   "metadata": {},
   "outputs": [
    {
     "name": "stdout",
     "output_type": "stream",
     "text": [
      "first inter\n",
      "num 1 : n = 1\n"
     ]
    }
   ],
   "source": [
    "print(next(gen))"
   ]
  },
  {
   "cell_type": "code",
   "execution_count": null,
   "id": "744011c8-14e3-4d23-890a-d64f21f30971",
   "metadata": {},
   "outputs": [],
   "source": []
  }
 ],
 "metadata": {
  "kernelspec": {
   "display_name": "Python 3 (ipykernel)",
   "language": "python",
   "name": "python3"
  },
  "language_info": {
   "codemirror_mode": {
    "name": "ipython",
    "version": 3
   },
   "file_extension": ".py",
   "mimetype": "text/x-python",
   "name": "python",
   "nbconvert_exporter": "python",
   "pygments_lexer": "ipython3",
   "version": "3.10.9"
  }
 },
 "nbformat": 4,
 "nbformat_minor": 5
}
